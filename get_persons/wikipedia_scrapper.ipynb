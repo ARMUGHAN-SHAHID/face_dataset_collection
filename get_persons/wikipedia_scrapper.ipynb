{
 "cells": [
  {
   "cell_type": "code",
   "execution_count": 1,
   "metadata": {},
   "outputs": [],
   "source": [
    "import os\n",
    "import sys\n",
    "from urllib.request import urlopen, Request\n",
    "from bs4 import BeautifulSoup"
   ]
  },
  {
   "cell_type": "code",
   "execution_count": null,
   "metadata": {},
   "outputs": [],
   "source": [
    "# class wikipidea_scrapper:\n",
    "#     def __init__(self):\n",
    "#         self.base_url=\"https://en.wikipedia.org/wiki/{}\"\n",
    "#         self.countries_url=[\"List_of_Pakistanis\",\"List_of_Bangladeshi_people\",\"List_of_Iraqis\",\"List_of_Iranians\",\"List_of_Afghans\",\"List_of_Nepalese_people\"\n",
    "#                             ,\"List_of_Turkish_people\"]\n",
    "#         self.countries=[\"pakistan\",\"bangladesh\",\"iraq\",\"iran\",\"afghanistan\",\"nepal\",\"turkey\"]\n",
    "#         self.columns=[\"name\",\"occupation\",\"dob\",\"country\"]\n",
    "#         self.results=None\n",
    "#     def get   "
   ]
  },
  {
   "cell_type": "code",
   "execution_count": null,
   "metadata": {},
   "outputs": [],
   "source": [
    "url=\"\""
   ]
  }
 ],
 "metadata": {
  "kernelspec": {
   "display_name": "Python 3",
   "language": "python",
   "name": "python3"
  },
  "language_info": {
   "codemirror_mode": {
    "name": "ipython",
    "version": 3
   },
   "file_extension": ".py",
   "mimetype": "text/x-python",
   "name": "python",
   "nbconvert_exporter": "python",
   "pygments_lexer": "ipython3",
   "version": "3.6.5"
  }
 },
 "nbformat": 4,
 "nbformat_minor": 2
}

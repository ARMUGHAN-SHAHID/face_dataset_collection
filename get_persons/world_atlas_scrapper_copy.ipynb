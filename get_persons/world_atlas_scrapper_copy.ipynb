{
 "cells": [
  {
   "cell_type": "code",
   "execution_count": 1,
   "metadata": {},
   "outputs": [],
   "source": [
    "from selenium import webdriver \n",
    "from selenium.webdriver.common.by import By \n",
    "from selenium.webdriver.support.ui import WebDriverWait \n",
    "from selenium.webdriver.support import expected_conditions as EC \n",
    "from selenium.common.exceptions import TimeoutException\n",
    "import time\n",
    "import pandas as pd\n",
    "import numpy as np\n",
    "import os\n",
    "from tqdm import tqdm_notebook as tqdm"
   ]
  },
  {
   "cell_type": "code",
   "execution_count": 22,
   "metadata": {},
   "outputs": [],
   "source": [
    "url=\"https://www.worldatlas.com/webimage/countrys/asia/pakistan/pkfamous.htm\""
   ]
  },
  {
   "cell_type": "code",
   "execution_count": 23,
   "metadata": {},
   "outputs": [
    {
     "name": "stderr",
     "output_type": "stream",
     "text": [
      "/home/armughan/anaconda3/envs/py3.6/lib/python3.6/site-packages/ipykernel_launcher.py:3: DeprecationWarning: use options instead of chrome_options\n",
      "  This is separate from the ipykernel package so we can avoid doing imports until\n"
     ]
    }
   ],
   "source": [
    "option = webdriver.ChromeOptions()\n",
    "option.add_argument(\"— incognito\")\n",
    "browser=webdriver.Chrome(executable_path=\"./chromedriver\", chrome_options=option)\n",
    "browser.get(url)"
   ]
  },
  {
   "cell_type": "code",
   "execution_count": null,
   "metadata": {},
   "outputs": [],
   "source": [
    "# def get_next_page_url():\n",
    "#     b_elem=browser.find_elements_by_xpath(\"//a[@class='butPagi rightPagi']\")\n",
    "#     if len(b_elem)>0:\n",
    "#         return b_elem[0].get_attribute(\"href\")\n",
    "#     else:\n",
    "#         return None"
   ]
  },
  {
   "cell_type": "code",
   "execution_count": null,
   "metadata": {},
   "outputs": [],
   "source": [
    "while True:\n",
    "    url=get_next_page_url()\n",
    "    print (url)\n",
    "    if url is None:\n",
    "        break\n",
    "    else:\n",
    "#         print (\"getting url\")\n",
    "        browser.get(url)\n",
    "        time.sleep(1)"
   ]
  },
  {
   "cell_type": "code",
   "execution_count": 17,
   "metadata": {},
   "outputs": [
    {
     "ename": "NameError",
     "evalue": "name 'browser' is not defined",
     "output_type": "error",
     "traceback": [
      "\u001b[0;31m---------------------------------------------------------------------------\u001b[0m",
      "\u001b[0;31mNameError\u001b[0m                                 Traceback (most recent call last)",
      "\u001b[0;32m<ipython-input-17-e1564463d2fa>\u001b[0m in \u001b[0;36m<module>\u001b[0;34m()\u001b[0m\n\u001b[0;32m----> 1\u001b[0;31m \u001b[0mmain_content\u001b[0m\u001b[0;34m=\u001b[0m\u001b[0mbrowser\u001b[0m\u001b[0;34m.\u001b[0m\u001b[0mfind_element_by_xpath\u001b[0m\u001b[0;34m(\u001b[0m\u001b[0;34m\"//section[@class='push-bot15 mapContLv2-left ']\"\u001b[0m\u001b[0;34m)\u001b[0m\u001b[0;34m\u001b[0m\u001b[0m\n\u001b[0m\u001b[1;32m      2\u001b[0m \u001b[0mperson_elements\u001b[0m\u001b[0;34m=\u001b[0m\u001b[0mmain_content\u001b[0m\u001b[0;34m.\u001b[0m\u001b[0mfind_elements_by_tag_name\u001b[0m\u001b[0;34m(\u001b[0m\u001b[0;34m\"li\"\u001b[0m\u001b[0;34m)\u001b[0m\u001b[0;34m\u001b[0m\u001b[0m\n\u001b[1;32m      3\u001b[0m \u001b[0mmain_content\u001b[0m\u001b[0;34m.\u001b[0m\u001b[0mfin\u001b[0m\u001b[0;34m\u001b[0m\u001b[0m\n\u001b[1;32m      4\u001b[0m \u001b[0mperson_element\u001b[0m\u001b[0;34m=\u001b[0m\u001b[0mperson_elements\u001b[0m\u001b[0;34m[\u001b[0m\u001b[0;36m0\u001b[0m\u001b[0;34m]\u001b[0m\u001b[0;34m\u001b[0m\u001b[0m\n\u001b[1;32m      5\u001b[0m \u001b[0mp_name\u001b[0m\u001b[0;34m=\u001b[0m\u001b[0mperson_element\u001b[0m\u001b[0;34m.\u001b[0m\u001b[0mfind_element_by_tag_name\u001b[0m\u001b[0;34m(\u001b[0m\u001b[0;34m\"b\"\u001b[0m\u001b[0;34m)\u001b[0m\u001b[0;34m.\u001b[0m\u001b[0mtext\u001b[0m\u001b[0;34m\u001b[0m\u001b[0m\n",
      "\u001b[0;31mNameError\u001b[0m: name 'browser' is not defined"
     ]
    }
   ],
   "source": [
    "# main_content=browser.find_element_by_xpath(\"//section[@class='push-bot15 mapContLv2-left ']\")\n",
    "# person_elements=main_content.find_elements_by_tag_name(\"li\")\n",
    "# main_content.fin\n",
    "# person_element=person_elements[0]\n",
    "# p_name=person_element.find_element_by_tag_name(\"b\").text\n",
    "# p_occupation=person_element.text[len(p_name):].strip()\n",
    "# print (p_name,\"|\",p_occupation)"
   ]
  },
  {
   "cell_type": "code",
   "execution_count": null,
   "metadata": {},
   "outputs": [],
   "source": [
    "def extract_persons():\n",
    "    main_content=browser.find_element_by_class_name(\"push-bot15 mapContLv2-left\")\n",
    "#     main_content=browser.find_element_by_xpath(\"//section[@class='push-bot15 mapContLv2-left ']\")\n",
    "    person_elements=main_content.find_elements_by_tag_name(\"li\")\n",
    "    for person_element in person_elements:\n",
    "        p_name=person_element.find_element_by_tag_name(\"b\").text\n",
    "        p_occupation=person_element.text[len(p_name):].strip()\n",
    "        print (p_name,\"|\",p_occupation)"
   ]
  },
  {
   "cell_type": "code",
   "execution_count": null,
   "metadata": {},
   "outputs": [],
   "source": [
    "extract_persons()"
   ]
  },
  {
   "cell_type": "code",
   "execution_count": 24,
   "metadata": {},
   "outputs": [],
   "source": [
    "class world_atlas_scrapper:\n",
    "    def __init__(self):\n",
    "        self.base_url=\"https://www.worldatlas.com/webimage/countrys/asia/{}\"\n",
    "        self.countries_url=[\"pakistan/pkfamous.htm\",\"bangladesh/bdfamous.htm\",\"iraq/iqfamous.htm\"\n",
    "                            ,\"iran/irfamous.htm\",\"afghanistan/affamous.htm\",\"nepal/npfamous.htm\"\n",
    "                            ,\"turkey/trfamous.htm\",\"india/infamous.htm\"]\n",
    "        self.countries=[\"pakistan\",\"bangladesh\",\"iraq\",\"iran\",\"afghanistan\",\"nepal\",\"turkey\",\"india\"]\n",
    "        self.option = webdriver.ChromeOptions()\n",
    "        self.option.add_argument(\"— incognito\")\n",
    "        prefs = {'profile.managed_default_content_settings.images':2}\n",
    "        self.option.add_experimental_option(\"prefs\", prefs)\n",
    "        self.browser=webdriver.Chrome(executable_path=\"./chromedriver\", chrome_options=self.option)\n",
    "        self.columns=[\"name\",\"occupation\",\"dob\",\"country\"]\n",
    "        self.results=None\n",
    "        self.timeout=3\n",
    "    \n",
    "    def get_query_url(self,country_url):\n",
    "        return self.base_url.format(country_url)\n",
    "    \n",
    "    def load_page(self,url):\n",
    "        self.browser.get(url)\n",
    "        try:\n",
    "            WebDriverWait(self.browser,self.timeout).until(EC.visibility_of_element_located((By.XPATH, \"//img[@class='imageFit']\")))\n",
    "        except TimeoutException:\n",
    "            print(\"Timed out waiting for page to load\")\n",
    "            browser.quit()\n",
    "            \n",
    "    def get_next_page(self):\n",
    "        b_elem=self.browser.find_elements_by_xpath(\"//a[@class='butPagi rightPagi']\")\n",
    "        if len(b_elem)>0:\n",
    "            url=b_elem[0].get_attribute(\"href\")\n",
    "            self.load_page(url)\n",
    "            return True\n",
    "        else:\n",
    "            return False\n",
    "    \n",
    "    def extract_people_of_country(self,country,country_url):\n",
    "        url=self.get_query_url(country_url)\n",
    "        self.load_page(url)\n",
    "        person_list=[]\n",
    "        while True:\n",
    "            main_content=self.browser.find_element_by_class_name(\"mapContLv2-left\")\n",
    "#             main_content=self.browser.find_element_by_xpath(\"//section[@class='push-bot15 mapContLv2-left ']\")\n",
    "            person_elements=main_content.find_elements_by_tag_name(\"li\")\n",
    "            for person_element in tqdm(person_elements):\n",
    "                try:\n",
    "                    p_name=person_element.find_element_by_tag_name(\"b\").text\n",
    "                except:\n",
    "                    p_name=\"\"\n",
    "                    continue\n",
    "                p_occupation=person_element.text[len(p_name):].strip()\n",
    "#                 print (p_name,\"|\",p_occupation)\n",
    "                person_list.append([p_name,p_occupation,\"\",country])\n",
    "                \n",
    "                \n",
    "            if not self.get_next_page():\n",
    "                break\n",
    "        print (\"num of people extracted={}\".format(len(person_list)))\n",
    "        return person_list      \n",
    "    \n",
    "    def extract_persons(self):\n",
    "        for country,country_url in zip(self.countries,self.countries_url):\n",
    "            print (\"===>extracting for country {}\".format(country))\n",
    "            p_list=self.extract_people_of_country(country,country_url)\n",
    "            if self.results is None:\n",
    "                self.results=pd.DataFrame(p_list,columns=self.columns)\n",
    "            else:\n",
    "                self.results=self.results.append(pd.DataFrame(p_list,columns=self.columns),ignore_index=True)\n",
    "#         print (self.results)\n",
    "        return self.results"
   ]
  },
  {
   "cell_type": "code",
   "execution_count": 25,
   "metadata": {},
   "outputs": [
    {
     "name": "stderr",
     "output_type": "stream",
     "text": [
      "/home/armughan/anaconda3/envs/py3.6/lib/python3.6/site-packages/ipykernel_launcher.py:12: DeprecationWarning: use options instead of chrome_options\n",
      "  if sys.path[0] == '':\n"
     ]
    },
    {
     "name": "stdout",
     "output_type": "stream",
     "text": [
      "===>extracting for country pakistan\n"
     ]
    },
    {
     "data": {
      "application/vnd.jupyter.widget-view+json": {
       "model_id": "481c68ad4300488da9a7150af3c75f18",
       "version_major": 2,
       "version_minor": 0
      },
      "text/plain": [
       "HBox(children=(IntProgress(value=0, max=86), HTML(value='')))"
      ]
     },
     "metadata": {},
     "output_type": "display_data"
    },
    {
     "name": "stdout",
     "output_type": "stream",
     "text": [
      "\n"
     ]
    },
    {
     "data": {
      "application/vnd.jupyter.widget-view+json": {
       "model_id": "2bf5e5ebff8b4e2ebd3f6633ae39e71d",
       "version_major": 2,
       "version_minor": 0
      },
      "text/plain": [
       "HBox(children=(IntProgress(value=0, max=77), HTML(value='')))"
      ]
     },
     "metadata": {},
     "output_type": "display_data"
    },
    {
     "name": "stdout",
     "output_type": "stream",
     "text": [
      "\n"
     ]
    },
    {
     "data": {
      "application/vnd.jupyter.widget-view+json": {
       "model_id": "d7e54d43c39e44b38de1b640c99d6682",
       "version_major": 2,
       "version_minor": 0
      },
      "text/plain": [
       "HBox(children=(IntProgress(value=0, max=83), HTML(value='')))"
      ]
     },
     "metadata": {},
     "output_type": "display_data"
    },
    {
     "name": "stdout",
     "output_type": "stream",
     "text": [
      "\n",
      "num of people extracted=246\n",
      "===>extracting for country bangladesh\n"
     ]
    },
    {
     "data": {
      "application/vnd.jupyter.widget-view+json": {
       "model_id": "9e561b6b405b43daa84429aba5087a24",
       "version_major": 2,
       "version_minor": 0
      },
      "text/plain": [
       "HBox(children=(IntProgress(value=0, max=66), HTML(value='')))"
      ]
     },
     "metadata": {},
     "output_type": "display_data"
    },
    {
     "name": "stdout",
     "output_type": "stream",
     "text": [
      "\n"
     ]
    },
    {
     "data": {
      "application/vnd.jupyter.widget-view+json": {
       "model_id": "5a571a7ae56d452a8731eabc708e40c4",
       "version_major": 2,
       "version_minor": 0
      },
      "text/plain": [
       "HBox(children=(IntProgress(value=0, max=59), HTML(value='')))"
      ]
     },
     "metadata": {},
     "output_type": "display_data"
    },
    {
     "name": "stdout",
     "output_type": "stream",
     "text": [
      "\n",
      "num of people extracted=125\n",
      "===>extracting for country iraq\n"
     ]
    },
    {
     "data": {
      "application/vnd.jupyter.widget-view+json": {
       "model_id": "af010d7c04dc487e949d76bfaa5f8d16",
       "version_major": 2,
       "version_minor": 0
      },
      "text/plain": [
       "HBox(children=(IntProgress(value=0, max=78), HTML(value='')))"
      ]
     },
     "metadata": {},
     "output_type": "display_data"
    },
    {
     "name": "stdout",
     "output_type": "stream",
     "text": [
      "\n"
     ]
    },
    {
     "data": {
      "application/vnd.jupyter.widget-view+json": {
       "model_id": "ecb1cfc812344f60b0c3b8a5bac7aee1",
       "version_major": 2,
       "version_minor": 0
      },
      "text/plain": [
       "HBox(children=(IntProgress(value=0, max=87), HTML(value='')))"
      ]
     },
     "metadata": {},
     "output_type": "display_data"
    },
    {
     "name": "stdout",
     "output_type": "stream",
     "text": [
      "\n"
     ]
    },
    {
     "data": {
      "application/vnd.jupyter.widget-view+json": {
       "model_id": "6697475f01394cbb89591507fc5bf0d0",
       "version_major": 2,
       "version_minor": 0
      },
      "text/plain": [
       "HBox(children=(IntProgress(value=0, max=26), HTML(value='')))"
      ]
     },
     "metadata": {},
     "output_type": "display_data"
    },
    {
     "name": "stdout",
     "output_type": "stream",
     "text": [
      "\n",
      "num of people extracted=191\n",
      "===>extracting for country iran\n"
     ]
    },
    {
     "data": {
      "application/vnd.jupyter.widget-view+json": {
       "model_id": "957a76091293464d95b2ad26f4e0ad9c",
       "version_major": 2,
       "version_minor": 0
      },
      "text/plain": [
       "HBox(children=(IntProgress(value=0, max=432), HTML(value='')))"
      ]
     },
     "metadata": {},
     "output_type": "display_data"
    },
    {
     "name": "stdout",
     "output_type": "stream",
     "text": [
      "\n"
     ]
    },
    {
     "data": {
      "application/vnd.jupyter.widget-view+json": {
       "model_id": "9f28b100ee2c40e48c5771a2a33a8187",
       "version_major": 2,
       "version_minor": 0
      },
      "text/plain": [
       "HBox(children=(IntProgress(value=0, max=86), HTML(value='')))"
      ]
     },
     "metadata": {},
     "output_type": "display_data"
    },
    {
     "name": "stdout",
     "output_type": "stream",
     "text": [
      "\n"
     ]
    },
    {
     "data": {
      "application/vnd.jupyter.widget-view+json": {
       "model_id": "e9a4bc2c1d374fc3bf9109ec14b11d29",
       "version_major": 2,
       "version_minor": 0
      },
      "text/plain": [
       "HBox(children=(IntProgress(value=0, max=87), HTML(value='')))"
      ]
     },
     "metadata": {},
     "output_type": "display_data"
    },
    {
     "name": "stdout",
     "output_type": "stream",
     "text": [
      "\n"
     ]
    },
    {
     "data": {
      "application/vnd.jupyter.widget-view+json": {
       "model_id": "40c526b56eb44f4f811679a12ba4cb04",
       "version_major": 2,
       "version_minor": 0
      },
      "text/plain": [
       "HBox(children=(IntProgress(value=0, max=90), HTML(value='')))"
      ]
     },
     "metadata": {},
     "output_type": "display_data"
    },
    {
     "name": "stdout",
     "output_type": "stream",
     "text": [
      "\n"
     ]
    },
    {
     "data": {
      "application/vnd.jupyter.widget-view+json": {
       "model_id": "22ff12202a284c36b9f13c045fa0513f",
       "version_major": 2,
       "version_minor": 0
      },
      "text/plain": [
       "HBox(children=(IntProgress(value=0, max=85), HTML(value='')))"
      ]
     },
     "metadata": {},
     "output_type": "display_data"
    },
    {
     "name": "stdout",
     "output_type": "stream",
     "text": [
      "\n",
      "num of people extracted=780\n",
      "===>extracting for country afghanistan\n"
     ]
    },
    {
     "data": {
      "application/vnd.jupyter.widget-view+json": {
       "model_id": "743a19ea0b90479ebe105f1826903017",
       "version_major": 2,
       "version_minor": 0
      },
      "text/plain": [
       "HBox(children=(IntProgress(value=0, max=88), HTML(value='')))"
      ]
     },
     "metadata": {},
     "output_type": "display_data"
    },
    {
     "name": "stdout",
     "output_type": "stream",
     "text": [
      "\n",
      "num of people extracted=86\n",
      "===>extracting for country nepal\n"
     ]
    },
    {
     "data": {
      "application/vnd.jupyter.widget-view+json": {
       "model_id": "5a1c9fad8e964d6c9101ad69a9dd1662",
       "version_major": 2,
       "version_minor": 0
      },
      "text/plain": [
       "HBox(children=(IntProgress(value=0, max=71), HTML(value='')))"
      ]
     },
     "metadata": {},
     "output_type": "display_data"
    },
    {
     "name": "stdout",
     "output_type": "stream",
     "text": [
      "\n"
     ]
    },
    {
     "data": {
      "application/vnd.jupyter.widget-view+json": {
       "model_id": "9d69a367ff2343f2a5b27e7db0c32fff",
       "version_major": 2,
       "version_minor": 0
      },
      "text/plain": [
       "HBox(children=(IntProgress(value=0, max=68), HTML(value='')))"
      ]
     },
     "metadata": {},
     "output_type": "display_data"
    },
    {
     "name": "stdout",
     "output_type": "stream",
     "text": [
      "\n",
      "num of people extracted=139\n",
      "===>extracting for country turkey\n"
     ]
    },
    {
     "data": {
      "application/vnd.jupyter.widget-view+json": {
       "model_id": "0fcbf6ed225d488ca03a098afc7b3dd7",
       "version_major": 2,
       "version_minor": 0
      },
      "text/plain": [
       "HBox(children=(IntProgress(value=0, max=96), HTML(value='')))"
      ]
     },
     "metadata": {},
     "output_type": "display_data"
    },
    {
     "name": "stdout",
     "output_type": "stream",
     "text": [
      "\n"
     ]
    },
    {
     "data": {
      "application/vnd.jupyter.widget-view+json": {
       "model_id": "b693561ec5464c6eabf1f46be0a331cb",
       "version_major": 2,
       "version_minor": 0
      },
      "text/plain": [
       "HBox(children=(IntProgress(value=0, max=102), HTML(value='')))"
      ]
     },
     "metadata": {},
     "output_type": "display_data"
    },
    {
     "name": "stdout",
     "output_type": "stream",
     "text": [
      "\n"
     ]
    },
    {
     "data": {
      "application/vnd.jupyter.widget-view+json": {
       "model_id": "f54e10b015b342a6aaf6793e573f9e20",
       "version_major": 2,
       "version_minor": 0
      },
      "text/plain": [
       "HBox(children=(IntProgress(value=0, max=102), HTML(value='')))"
      ]
     },
     "metadata": {},
     "output_type": "display_data"
    },
    {
     "name": "stdout",
     "output_type": "stream",
     "text": [
      "\n"
     ]
    },
    {
     "data": {
      "application/vnd.jupyter.widget-view+json": {
       "model_id": "13a61d1ed7c4454c817a425bb850dd87",
       "version_major": 2,
       "version_minor": 0
      },
      "text/plain": [
       "HBox(children=(IntProgress(value=0, max=106), HTML(value='')))"
      ]
     },
     "metadata": {},
     "output_type": "display_data"
    },
    {
     "name": "stdout",
     "output_type": "stream",
     "text": [
      "\n"
     ]
    },
    {
     "data": {
      "application/vnd.jupyter.widget-view+json": {
       "model_id": "fb78cc9c400e4797bf7f0e36c9636ffc",
       "version_major": 2,
       "version_minor": 0
      },
      "text/plain": [
       "HBox(children=(IntProgress(value=0, max=133), HTML(value='')))"
      ]
     },
     "metadata": {},
     "output_type": "display_data"
    },
    {
     "name": "stdout",
     "output_type": "stream",
     "text": [
      "\n",
      "num of people extracted=539\n",
      "===>extracting for country india\n"
     ]
    },
    {
     "data": {
      "application/vnd.jupyter.widget-view+json": {
       "model_id": "65fee7a5644c43f580baef346ecc8c02",
       "version_major": 2,
       "version_minor": 0
      },
      "text/plain": [
       "HBox(children=(IntProgress(value=0, max=74), HTML(value='')))"
      ]
     },
     "metadata": {},
     "output_type": "display_data"
    },
    {
     "name": "stdout",
     "output_type": "stream",
     "text": [
      "\n"
     ]
    },
    {
     "data": {
      "application/vnd.jupyter.widget-view+json": {
       "model_id": "575897dc9c024d1ab869680a6d03775f",
       "version_major": 2,
       "version_minor": 0
      },
      "text/plain": [
       "HBox(children=(IntProgress(value=0, max=74), HTML(value='')))"
      ]
     },
     "metadata": {},
     "output_type": "display_data"
    },
    {
     "name": "stdout",
     "output_type": "stream",
     "text": [
      "\n"
     ]
    },
    {
     "data": {
      "application/vnd.jupyter.widget-view+json": {
       "model_id": "671f12fcbbc340b69b69ec20c626faa2",
       "version_major": 2,
       "version_minor": 0
      },
      "text/plain": [
       "HBox(children=(IntProgress(value=0, max=35), HTML(value='')))"
      ]
     },
     "metadata": {},
     "output_type": "display_data"
    },
    {
     "name": "stdout",
     "output_type": "stream",
     "text": [
      "\n",
      "num of people extracted=183\n"
     ]
    }
   ],
   "source": [
    "ws=world_atlas_scrapper()\n",
    "ws_dataframe=ws.extract_persons()"
   ]
  },
  {
   "cell_type": "code",
   "execution_count": 28,
   "metadata": {},
   "outputs": [
    {
     "name": "stdout",
     "output_type": "stream",
     "text": [
      "                 name           occupation dob   country\n",
      "0        Sohail Abbas  field hockey player      pakistan\n",
      "1        Zaheer Abbas            cricketer      pakistan\n",
      "2        Ansar Abbasi           journalist      pakistan\n",
      "3        Abrar-ul-Haq             musician      pakistan\n",
      "4  Shahid Khan Afridi            cricketer      pakistan\n"
     ]
    }
   ],
   "source": [
    "print (ws_dataframe.head())\n",
    "ws_dataframe.to_csv(\"world_atlas.csv\")"
   ]
  }
 ],
 "metadata": {
  "kernelspec": {
   "display_name": "Python 3",
   "language": "python",
   "name": "python3"
  },
  "language_info": {
   "codemirror_mode": {
    "name": "ipython",
    "version": 3
   },
   "file_extension": ".py",
   "mimetype": "text/x-python",
   "name": "python",
   "nbconvert_exporter": "python",
   "pygments_lexer": "ipython3",
   "version": "3.6.5"
  }
 },
 "nbformat": 4,
 "nbformat_minor": 2
}

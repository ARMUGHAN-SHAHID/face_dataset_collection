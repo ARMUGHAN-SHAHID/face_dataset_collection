{
 "cells": [
  {
   "cell_type": "code",
   "execution_count": 26,
   "metadata": {},
   "outputs": [],
   "source": [
    "from selenium import webdriver \n",
    "from selenium.webdriver.common.by import By \n",
    "from selenium.webdriver.support.ui import WebDriverWait \n",
    "from selenium.webdriver.support import expected_conditions as EC \n",
    "from selenium.common.exceptions import TimeoutException\n",
    "import time\n",
    "import pandas as pd\n",
    "import numpy as np\n",
    "import os\n",
    "from tqdm import tqdm_notebook as tqdm"
   ]
  },
  {
   "cell_type": "code",
   "execution_count": 31,
   "metadata": {},
   "outputs": [],
   "source": [
    "class the_famous_people_com_scrapper:\n",
    "    def __init__(self):\n",
    "        self.base_url=\"https://www.thefamouspeople.com/{}.php\"\n",
    "        self.countries_url=[\"pakistan\",\"bangladesh\",\"iraq\",\"iran_islamic_republic\",\"afghanistan\",\"nepal\",\"turkey\",\"india\"]\n",
    "        self.countries=[\"pakistan\",\"bangladesh\",\"iraq\",\"iran\",\"afghanistan\",\"nepal\",\"turkey\",\"india\"]\n",
    "        \n",
    "        \n",
    "        self.option = webdriver.ChromeOptions()\n",
    "        self.option.add_argument(\"— incognito\")\n",
    "        self.browser=webdriver.Chrome(executable_path=\"./chromedriver\", chrome_options=self.option)\n",
    "        self.columns=[\"name\",\"occupation\",\"dob\",\"country\"]\n",
    "        self.results=None\n",
    "        print (self.results)\n",
    "        self.year_thresh=1930\n",
    "        \n",
    "    def get_query_url(self,country_url):\n",
    "        return self.base_url.format(country_url)\n",
    "    \n",
    "    def load_country_page(self,country_url):\n",
    "        url=self.get_query_url(country_url)\n",
    "        self.browser.get(url)\n",
    "        print (\"loading page {} ...might take some time\".format(url))\n",
    "        view_button_element = self.browser.find_elements_by_xpath(\"//div[@class='loading-bar']\")\n",
    "        while view_button_element[0].is_displayed():\n",
    "            view_button_element[0].click()\n",
    "            time.sleep(1.5)\n",
    "            view_button_element = self.browser.find_elements_by_xpath(\"//div[@class='loading-bar']\")\n",
    "    \n",
    "    def extract_people_of_country(self,country,country_url):\n",
    "        self.load_country_page(country_url)\n",
    "        person_elements=self.browser.find_elements_by_class_name(\"catprofiles\")\n",
    "        person_list=[]\n",
    "        for index,person_element in zip(tqdm(range(len(person_elements))),person_elements):\n",
    "            person_element=person_element.find_element_by_tag_name(\"div\")\n",
    "            try:\n",
    "                pe_name=person_element.find_element_by_tag_name(\"img\").get_attribute(\"title\").lower()\n",
    "            except:\n",
    "                pe_name=\"\"\n",
    "            try:\n",
    "                pe_occupation=person_element.find_element_by_class_name(\"rec-country-name\").text.lower().replace(\"(\",\"\").replace(\")\",\"\")\n",
    "            except:\n",
    "                pe_occupation=\"\"\n",
    "            try:\n",
    "                pe_dob=person_element.find_element_by_tag_name(\"p\").text\n",
    "                if len(pe_dob)>4:\n",
    "                    year=pe_dob[-4:]\n",
    "                    if not year.isdigit():\n",
    "                        continue\n",
    "                    elif int(year)<self.year_thresh:\n",
    "                        continue\n",
    "                else:\n",
    "                    pe_dob=\"\"\n",
    "            except:\n",
    "                pe_dob=\"\"\n",
    "#             print (\"\\t\",index+1,pe_name,pe_occupation,pe_dob,country)\n",
    "            person_list.append([pe_name,pe_occupation,pe_dob,country])\n",
    "        print (\"num of people extracted={}\".format(len(person_list)))\n",
    "        return person_list\n",
    "            \n",
    "    def extract_persons(self):\n",
    "        for country,country_url in zip(self.countries,self.countries_url):\n",
    "            print (\"===>extracting for country {}\".format(country))\n",
    "            p_list=self.extract_people_of_country(country,country_url)\n",
    "            if self.results is None:\n",
    "                self.results=pd.DataFrame(p_list,columns=self.columns)\n",
    "            else:\n",
    "                self.results=self.results.append(pd.DataFrame(p_list,columns=self.columns),ignore_index=True)\n",
    "#         print (self.results)\n",
    "        return self.results\n",
    "#         self.results.to_csv(self.savepath)\n",
    "    "
   ]
  },
  {
   "cell_type": "code",
   "execution_count": 32,
   "metadata": {
    "scrolled": false
   },
   "outputs": [
    {
     "name": "stderr",
     "output_type": "stream",
     "text": [
      "/home/armughan/anaconda3/envs/py3.6/lib/python3.6/site-packages/ipykernel_launcher.py:12: DeprecationWarning: use options instead of chrome_options\n",
      "  if sys.path[0] == '':\n"
     ]
    },
    {
     "name": "stdout",
     "output_type": "stream",
     "text": [
      "None\n",
      "===>extracting for country bangladesh\n",
      "loading page https://www.thefamouspeople.com/bangladesh.php ...might take some time\n"
     ]
    },
    {
     "data": {
      "application/vnd.jupyter.widget-view+json": {
       "model_id": "7da082097faf415cbd889b18bed11a0f",
       "version_major": 2,
       "version_minor": 0
      },
      "text/plain": [
       "HBox(children=(IntProgress(value=0, max=60), HTML(value='')))"
      ]
     },
     "metadata": {},
     "output_type": "display_data"
    },
    {
     "name": "stdout",
     "output_type": "stream",
     "text": [
      "\n",
      "num of people extracted=48\n",
      "===>extracting for country iraq\n",
      "loading page https://www.thefamouspeople.com/iraq.php ...might take some time\n"
     ]
    },
    {
     "data": {
      "application/vnd.jupyter.widget-view+json": {
       "model_id": "46b735b3d3a24c75a29a7036bb5dee68",
       "version_major": 2,
       "version_minor": 0
      },
      "text/plain": [
       "HBox(children=(IntProgress(value=0, max=79), HTML(value='')))"
      ]
     },
     "metadata": {},
     "output_type": "display_data"
    },
    {
     "name": "stdout",
     "output_type": "stream",
     "text": [
      "\n",
      "num of people extracted=39\n",
      "===>extracting for country iran\n",
      "loading page https://www.thefamouspeople.com/iran_islamic_republic.php ...might take some time\n"
     ]
    },
    {
     "data": {
      "application/vnd.jupyter.widget-view+json": {
       "model_id": "5872eaae06674df88b1f399f31e02e2a",
       "version_major": 2,
       "version_minor": 0
      },
      "text/plain": [
       "HBox(children=(IntProgress(value=0, max=139), HTML(value='')))"
      ]
     },
     "metadata": {},
     "output_type": "display_data"
    },
    {
     "name": "stdout",
     "output_type": "stream",
     "text": [
      "\n",
      "num of people extracted=64\n"
     ]
    }
   ],
   "source": [
    "# ps=the_famous_people_com_scrapper()\n",
    "# person_df=ps.extract_persons()\n"
   ]
  }
 ],
 "metadata": {
  "kernelspec": {
   "display_name": "Python 3",
   "language": "python",
   "name": "python3"
  },
  "language_info": {
   "codemirror_mode": {
    "name": "ipython",
    "version": 3
   },
   "file_extension": ".py",
   "mimetype": "text/x-python",
   "name": "python",
   "nbconvert_exporter": "python",
   "pygments_lexer": "ipython3",
   "version": "3.6.5"
  }
 },
 "nbformat": 4,
 "nbformat_minor": 2
}
